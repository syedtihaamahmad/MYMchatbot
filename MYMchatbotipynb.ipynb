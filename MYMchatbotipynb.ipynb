{
  "nbformat": 4,
  "nbformat_minor": 0,
  "metadata": {
    "colab": {
      "provenance": [],
      "mount_file_id": "11Hlf4tCz5ZbWUtJ19bS_hfmYXXEj3seR",
      "authorship_tag": "ABX9TyM1BAjV/qHbIUWFj734nqZE",
      "include_colab_link": true
    },
    "kernelspec": {
      "name": "python3",
      "display_name": "Python 3"
    },
    "language_info": {
      "name": "python"
    }
  },
  "cells": [
    {
      "cell_type": "markdown",
      "metadata": {
        "id": "view-in-github",
        "colab_type": "text"
      },
      "source": [
        "<a href=\"https://colab.research.google.com/github/syedtihaamahmad/MYMchatbot/blob/main/MYMchatbotipynb.ipynb\" target=\"_parent\"><img src=\"https://colab.research.google.com/assets/colab-badge.svg\" alt=\"Open In Colab\"/></a>"
      ]
    },
    {
      "cell_type": "markdown",
      "source": [
        "Mounting my personal Google drive for dataset and other util files."
      ],
      "metadata": {
        "id": "aHt8sQMLZI1i"
      }
    },
    {
      "cell_type": "code",
      "source": [
        "from google.colab import drive\n",
        "drive.mount('/content/drive')"
      ],
      "metadata": {
        "colab": {
          "base_uri": "https://localhost:8080/"
        },
        "id": "rwlgmuAC7j3c",
        "outputId": "d01f0f30-57de-48fe-adef-80f783061ae5"
      },
      "execution_count": null,
      "outputs": [
        {
          "output_type": "stream",
          "name": "stdout",
          "text": [
            "Mounted at /content/drive\n"
          ]
        }
      ]
    },
    {
      "cell_type": "code",
      "execution_count": null,
      "metadata": {
        "colab": {
          "base_uri": "https://localhost:8080/"
        },
        "id": "r-aKaOqc4V3v",
        "outputId": "a5511c6a-d1d1-4377-b424-f4f3c92c865a"
      },
      "outputs": [
        {
          "output_type": "stream",
          "name": "stdout",
          "text": [
            "Looking in indexes: https://pypi.org/simple, https://us-python.pkg.dev/colab-wheels/public/simple/\n",
            "Requirement already satisfied: nltk in /usr/local/lib/python3.10/dist-packages (3.8.1)\n",
            "Requirement already satisfied: click in /usr/local/lib/python3.10/dist-packages (from nltk) (8.1.3)\n",
            "Requirement already satisfied: joblib in /usr/local/lib/python3.10/dist-packages (from nltk) (1.2.0)\n",
            "Requirement already satisfied: regex>=2021.8.3 in /usr/local/lib/python3.10/dist-packages (from nltk) (2022.10.31)\n",
            "Requirement already satisfied: tqdm in /usr/local/lib/python3.10/dist-packages (from nltk) (4.65.0)\n"
          ]
        }
      ],
      "source": [
        "!pip install nltk\n"
      ]
    },
    {
      "cell_type": "code",
      "source": [
        "import nltk\n",
        "nltk.download('punkt')"
      ],
      "metadata": {
        "colab": {
          "base_uri": "https://localhost:8080/"
        },
        "id": "wQfXPwu6Fa2J",
        "outputId": "11494b03-647e-4642-a257-d3291930babf"
      },
      "execution_count": null,
      "outputs": [
        {
          "output_type": "stream",
          "name": "stderr",
          "text": [
            "[nltk_data] Downloading package punkt to /root/nltk_data...\n",
            "[nltk_data]   Unzipping tokenizers/punkt.zip.\n"
          ]
        },
        {
          "output_type": "execute_result",
          "data": {
            "text/plain": [
              "True"
            ]
          },
          "metadata": {},
          "execution_count": 4
        }
      ]
    },
    {
      "cell_type": "markdown",
      "source": [
        "Implementation of text preprocessing techniques such as stemming, tokenization and embedding so to prepare dataset for our NLP model."
      ],
      "metadata": {
        "id": "86vVFZ9CZWp8"
      }
    },
    {
      "cell_type": "code",
      "source": [
        "import numpy as np\n",
        "import nltk\n",
        "from nltk.stem.porter import PorterStemmer\n",
        "stemmer = PorterStemmer()\n",
        "\n",
        "def tokenize(sentence):\n",
        "    \"\"\"\n",
        "    split sentence into array of words/tokens\n",
        "    a token can be a word or punctuation character, or number\n",
        "    \"\"\"\n",
        "    return nltk.word_tokenize(sentence)\n",
        "\n",
        "\n",
        "def stem(word):\n",
        "    \"\"\"\n",
        "    stemming = find the root form of the word\n",
        "    \"\"\"\n",
        "    return stemmer.stem(word.lower())\n",
        "\n",
        "\n",
        "def bag_of_words(tokenized_sentence, words):\n",
        "    \"\"\"\n",
        "    Embedding of words into numbers.\n",
        "    \"\"\"\n",
        "    # stem each word\n",
        "    sentence_words = [stem(word) for word in tokenized_sentence]\n",
        "    # initialize bag with 0 for each word\n",
        "    bag = np.zeros(len(words), dtype=np.float32)\n",
        "    for idx, w in enumerate(words):\n",
        "        if w in sentence_words: \n",
        "            bag[idx] = 1\n",
        "\n",
        "    return bag"
      ],
      "metadata": {
        "id": "Xs5WnNpdEzj4"
      },
      "execution_count": null,
      "outputs": []
    },
    {
      "cell_type": "markdown",
      "source": [
        "Defining a simple Linear model"
      ],
      "metadata": {
        "id": "Jm27SPyVZwdl"
      }
    },
    {
      "cell_type": "code",
      "source": [
        "import torch\n",
        "import torch.nn as nn\n",
        "\n",
        "\n",
        "class NeuralNet(nn.Module):\n",
        "    def __init__(self, input_size, hidden_size, num_classes):\n",
        "        super(NeuralNet, self).__init__()\n",
        "        self.l1 = nn.Linear(input_size, hidden_size) \n",
        "        self.l2 = nn.Linear(hidden_size, hidden_size) \n",
        "        self.l3 = nn.Linear(hidden_size, num_classes)\n",
        "        self.relu = nn.ReLU()\n",
        "    \n",
        "    def forward(self, x):\n",
        "        out = self.l1(x)\n",
        "        out = self.relu(out)\n",
        "        out = self.l2(out)\n",
        "        out = self.relu(out)\n",
        "        out = self.l3(out)\n",
        "        return out"
      ],
      "metadata": {
        "id": "e_5bnhJbEtit"
      },
      "execution_count": null,
      "outputs": []
    },
    {
      "cell_type": "markdown",
      "source": [
        "Training script for our model"
      ],
      "metadata": {
        "id": "nbmp4UCqZ72f"
      }
    },
    {
      "cell_type": "code",
      "source": [
        "import numpy as np\n",
        "import random\n",
        "import json\n",
        "\n",
        "import torch\n",
        "import torch.nn as nn\n",
        "from torch.utils.data import Dataset, DataLoader\n",
        "\n",
        "#from nltk_utils import bag_of_words, tokenize, stem\n",
        "#from model import NeuralNet\n",
        "\n",
        "with open('/content/drive/MyDrive/intents.json', 'r') as f:\n",
        "    intents = json.load(f)\n",
        "\n",
        "all_words = []\n",
        "tags = []\n",
        "xy = []\n",
        "# loop through each sentence in our intents patterns\n",
        "for intent in intents['intents']:\n",
        "    tag = intent['tag']\n",
        "    # add to tag list\n",
        "    tags.append(tag)\n",
        "    for pattern in intent['patterns']:\n",
        "        # tokenize each word in the sentence\n",
        "        w = tokenize(pattern)\n",
        "        # add to our words list\n",
        "        all_words.extend(w)\n",
        "        # add to xy pair\n",
        "        xy.append((w, tag))\n",
        "\n",
        "# stem and lower each word\n",
        "ignore_words = ['?', '.', '!']\n",
        "all_words = [stem(w) for w in all_words if w not in ignore_words]\n",
        "# remove duplicates and sort\n",
        "all_words = sorted(set(all_words))\n",
        "tags = sorted(set(tags))\n",
        "\n",
        "print(len(xy), \"patterns\")\n",
        "print(len(tags), \"tags:\", tags)\n",
        "print(len(all_words), \"unique stemmed words:\", all_words)\n",
        "\n",
        "# create training data\n",
        "X_train = []\n",
        "y_train = []\n",
        "for (pattern_sentence, tag) in xy:\n",
        "    # X: bag of words for each pattern_sentence\n",
        "    bag = bag_of_words(pattern_sentence, all_words)\n",
        "    X_train.append(bag)\n",
        "    # y: PyTorch CrossEntropyLoss needs only class labels, not one-hot\n",
        "    label = tags.index(tag)\n",
        "    y_train.append(label)\n",
        "\n",
        "X_train = np.array(X_train)\n",
        "y_train = np.array(y_train)\n",
        "\n",
        "# Hyper-parameters \n",
        "num_epochs = 1000\n",
        "batch_size = 8\n",
        "learning_rate = 0.001\n",
        "input_size = len(X_train[0])\n",
        "hidden_size = 8\n",
        "output_size = len(tags)\n",
        "print(input_size, output_size)\n",
        "\n",
        "class ChatDataset(Dataset):\n",
        "\n",
        "    def __init__(self):\n",
        "        self.n_samples = len(X_train)\n",
        "        self.x_data = X_train\n",
        "        self.y_data = y_train\n",
        "\n",
        "    # support indexing such that dataset[i] can be used to get i-th sample\n",
        "    def __getitem__(self, index):\n",
        "        return self.x_data[index], self.y_data[index]\n",
        "\n",
        "    # we can call len(dataset) to return the size\n",
        "    def __len__(self):\n",
        "        return self.n_samples\n",
        "\n",
        "dataset = ChatDataset()\n",
        "train_loader = DataLoader(dataset=dataset,\n",
        "                          batch_size=batch_size,\n",
        "                          shuffle=True,\n",
        "                          num_workers=2)\n",
        "\n",
        "device = torch.device('cuda' if torch.cuda.is_available() else 'cpu')\n",
        "\n",
        "model = NeuralNet(input_size, hidden_size, output_size).to(device)\n",
        "\n",
        "# Loss and optimizer\n",
        "criterion = nn.CrossEntropyLoss()\n",
        "optimizer = torch.optim.Adam(model.parameters(), lr=learning_rate)\n",
        "\n",
        "# Train the model\n",
        "for epoch in range(num_epochs):\n",
        "    for (words, labels) in train_loader:\n",
        "        words = words.to(device)\n",
        "        labels = labels.to(device)\n",
        "        \n",
        "        # Forward pass\n",
        "        outputs = model(words)\n",
        "        # if y would be one-hot, we must apply\n",
        "        # labels = torch.max(labels, 1)[1]\n",
        "        loss = criterion(outputs, labels)\n",
        "        \n",
        "        # Backward and optimize\n",
        "        optimizer.zero_grad()\n",
        "        loss.backward()\n",
        "        optimizer.step()\n",
        "        \n",
        "    if (epoch+1) % 100 == 0:\n",
        "        print (f'Epoch [{epoch+1}/{num_epochs}], Loss: {loss.item():.4f}')\n",
        "\n",
        "\n",
        "print(f'final loss: {loss.item():.4f}')\n",
        "\n",
        "data = {\n",
        "\"model_state\": model.state_dict(),\n",
        "\"input_size\": input_size,\n",
        "\"hidden_size\": hidden_size,\n",
        "\"output_size\": output_size,\n",
        "\"all_words\": all_words,\n",
        "\"tags\": tags\n",
        "}\n",
        "\n",
        "FILE = \"data.pth\"\n",
        "torch.save(data, FILE)\n",
        "\n",
        "print(f'training complete. file saved to {FILE}')"
      ],
      "metadata": {
        "colab": {
          "base_uri": "https://localhost:8080/"
        },
        "id": "tbSAwZ--E6km",
        "outputId": "badb3d94-0457-4a14-8d3a-86d63b713f7e"
      },
      "execution_count": null,
      "outputs": [
        {
          "output_type": "stream",
          "name": "stdout",
          "text": [
            "29 patterns\n",
            "7 tags: ['case_studies', 'contact', 'goodbye', 'greeting', 'partnership', 'pricing', 'services']\n",
            "71 unique stemmed words: [\"'s\", 'a', 'about', 'address', 'agenc', 'an', 'ani', 'are', 'bye', 'can', 'care', 'case', 'client', 'collabor', 'contact', 'cost', 'day', 'discount', 'do', 'email', 'exampl', 'get', 'give', 'good', 'goodby', 'greet', 'have', 'hello', 'hey', 'hi', 'how', 'i', 'idea', 'in', 'inform', 'later', 'me', 'meet', 'much', 'notabl', 'of', 'offer', 'open', 'option', 'other', 'partnership', 'price', 'provid', 'rate', 'schedul', 'see', 'servic', 'show', 'some', 'stori', 'studi', 'success', 'take', 'team', 'tell', 'there', 'to', 'togeth', 'touch', 'we', 'what', 'white-label', 'with', 'work', 'you', 'your']\n",
            "71 7\n",
            "Epoch [100/1000], Loss: 0.8025\n",
            "Epoch [200/1000], Loss: 0.3371\n",
            "Epoch [300/1000], Loss: 0.0237\n",
            "Epoch [400/1000], Loss: 0.1714\n",
            "Epoch [500/1000], Loss: 0.0072\n",
            "Epoch [600/1000], Loss: 0.0338\n",
            "Epoch [700/1000], Loss: 0.0151\n",
            "Epoch [800/1000], Loss: 0.0016\n",
            "Epoch [900/1000], Loss: 0.0022\n",
            "Epoch [1000/1000], Loss: 0.0005\n",
            "final loss: 0.0005\n",
            "training complete. file saved to data.pth\n"
          ]
        }
      ]
    },
    {
      "cell_type": "markdown",
      "source": [
        "Inference function for our model :"
      ],
      "metadata": {
        "id": "sD4B27aLZ_Ap"
      }
    },
    {
      "cell_type": "code",
      "source": [
        "def customchatbot(sentence,all_words):\n",
        "\n",
        "    sentence = tokenize(sentence)\n",
        "    X = bag_of_words(sentence, all_words)\n",
        "    X = X.reshape(1, X.shape[0])\n",
        "    X = torch.from_numpy(X).to(device)\n",
        "\n",
        "    output = model(X)\n",
        "    _, predicted = torch.max(output, dim=1)\n",
        "\n",
        "    tag = tags[predicted.item()]\n",
        "\n",
        "    probs = torch.softmax(output, dim=1)\n",
        "    prob = probs[0][predicted.item()]\n",
        "    if prob.item() > 0.65:\n",
        "        for intent in intents['intents']:\n",
        "            if tag == intent[\"tag\"]:\n",
        "                print(f\"{bot_name}: {random.choice(intent['responses'])}\")\n",
        "                rsentence = bot_name + \":\" + random.choice(intent['responses'])\n",
        "    else:\n",
        "        print(f\"{bot_name}: I do not understand...\")\n",
        "        rsentence= bot_name + \": I do not understand...\"\n",
        "    return rsentence"
      ],
      "metadata": {
        "id": "Jx-Kif8M90TL"
      },
      "execution_count": null,
      "outputs": []
    },
    {
      "cell_type": "code",
      "source": [
        "import random\n",
        "import json\n",
        "\n",
        "import torch\n",
        "\n",
        "\n",
        "device = torch.device('cuda' if torch.cuda.is_available() else 'cpu')\n",
        "\n",
        "with open('/content/drive/MyDrive/intents.json', 'r') as json_data:\n",
        "    intents = json.load(json_data)\n",
        "\n",
        "FILE = \"data.pth\"\n",
        "data = torch.load(FILE)\n",
        "\n",
        "input_size = data[\"input_size\"]\n",
        "hidden_size = data[\"hidden_size\"]\n",
        "output_size = data[\"output_size\"]\n",
        "all_words = data['all_words']\n",
        "tags = data['tags']\n",
        "model_state = data[\"model_state\"]\n",
        "\n",
        "model = NeuralNet(input_size, hidden_size, output_size).to(device)\n",
        "model.load_state_dict(model_state)\n",
        "model.eval()\n",
        "\n",
        "bot_name = \"MYM\"\n",
        "print(\"Let's chat! (type 'quit' to exit)\")\n",
        "while True:\n",
        "    sentence = input(\"You: \")\n",
        "    if sentence == \"quit\":\n",
        "        break\n",
        "    customchatbot(sentence,all_words)\n"
      ],
      "metadata": {
        "colab": {
          "base_uri": "https://localhost:8080/"
        },
        "id": "8ndmPeE1Clrd",
        "outputId": "a91ca417-3203-41c7-e631-ea98ece7de68"
      },
      "execution_count": null,
      "outputs": [
        {
          "name": "stdout",
          "output_type": "stream",
          "text": [
            "Let's chat! (type 'quit' to exit)\n",
            "You: hi\n",
            "MYM: Hey! What brings you here today?\n",
            "You: how are you\n",
            "MYM: I do not understand...\n",
            "You: Can we work together\n",
            "MYM: We believe in the power of collaboration and are open to partnership opportunities. Let's connect and explore how we can work together.\n",
            "You: What are your pricing options\n",
            "MYM: Our pricing varies depending on the specific services and scope of the project. It would be best to discuss your requirements with our team for a personalized quote.\n",
            "You: show me a case study\n",
            "MYM: Certainly! We have several case studies showcasing our successful marketing campaigns. Please visit our website to explore our portfolio.\n",
            "You: Any more examples\n",
            "MYM: Absolutely! Our case studies demonstrate the positive impact of our marketing strategies. Feel free to check them out on our website for inspiration.\n",
            "You: okay. Goddbye\n",
            "MYM: Hello! How can I assist you today?\n",
            "You: goodbye\n",
            "MYM: See you later! Take care!\n",
            "You: quit\n"
          ]
        }
      ]
    },
    {
      "cell_type": "markdown",
      "source": [
        "We also deploy our model on a local host URL using Flask."
      ],
      "metadata": {
        "id": "EZPYot21aFZV"
      }
    },
    {
      "cell_type": "code",
      "source": [
        "from flask import Flask, render_template, request\n",
        "from google.colab.output import eval_js\n",
        "print(eval_js(\"google.colab.kernel.proxyPort(5000)\"))\n",
        "\n",
        "#Flask initialisation\n",
        "app = Flask(__name__,template_folder='/content/drive/MyDrive/templates',static_folder='/content/drive/MyDrive/templates/CSS')\n",
        "\n",
        "\n",
        "@app.route(\"/\")\n",
        "def index():\n",
        "\treturn render_template(\"index.html\")\n",
        "@app.route(\"/get\", methods=[\"GET\",\"POST\"])\n",
        "def chatbot_response():\n",
        "\tmsg = request.form[\"msg\"]\n",
        "\tresponse = customchatbot(msg,all_words)\n",
        "\treturn response\n",
        "\n",
        "if __name__ == \"__main__\":\n",
        "    app.run()\n"
      ],
      "metadata": {
        "colab": {
          "base_uri": "https://localhost:8080/",
          "height": 332
        },
        "id": "c7gpu5KA8MUN",
        "outputId": "9789790d-27a6-458f-df59-d45b39bb9504"
      },
      "execution_count": null,
      "outputs": [
        {
          "output_type": "stream",
          "name": "stdout",
          "text": [
            "https://pjj9s907vx-496ff2e9c6d22116-5000-colab.googleusercontent.com/\n",
            " * Serving Flask app '__main__'\n",
            " * Debug mode: off\n"
          ]
        },
        {
          "output_type": "stream",
          "name": "stderr",
          "text": [
            "INFO:werkzeug:\u001b[31m\u001b[1mWARNING: This is a development server. Do not use it in a production deployment. Use a production WSGI server instead.\u001b[0m\n",
            " * Running on http://127.0.0.1:5000\n",
            "INFO:werkzeug:\u001b[33mPress CTRL+C to quit\u001b[0m\n",
            "INFO:werkzeug:127.0.0.1 - - [23/May/2023 20:52:17] \"GET / HTTP/1.1\" 200 -\n",
            "INFO:werkzeug:127.0.0.1 - - [23/May/2023 20:52:17] \"GET /CSS/style.css HTTP/1.1\" 200 -\n",
            "INFO:werkzeug:127.0.0.1 - - [23/May/2023 20:52:17] \"\u001b[33mGET /favicon.ico HTTP/1.1\u001b[0m\" 404 -\n",
            "INFO:werkzeug:127.0.0.1 - - [23/May/2023 20:52:21] \"POST /get HTTP/1.1\" 200 -\n"
          ]
        },
        {
          "output_type": "stream",
          "name": "stdout",
          "text": [
            "MYM: Hi there! How may I help you?\n"
          ]
        },
        {
          "output_type": "stream",
          "name": "stderr",
          "text": [
            "INFO:werkzeug:127.0.0.1 - - [23/May/2023 20:52:30] \"POST /get HTTP/1.1\" 200 -\n"
          ]
        },
        {
          "output_type": "stream",
          "name": "stdout",
          "text": [
            "MYM: We offer customized pricing based on your specific needs and goals. Please contact us for a detailed discussion and a tailored quote.\n"
          ]
        },
        {
          "output_type": "stream",
          "name": "stderr",
          "text": [
            "INFO:werkzeug:127.0.0.1 - - [23/May/2023 20:52:46] \"POST /get HTTP/1.1\" 200 -\n"
          ]
        },
        {
          "output_type": "stream",
          "name": "stdout",
          "text": [
            "MYM: For any inquiries or to schedule a meeting, please email us at [email protected] We will get back to you promptly.\n"
          ]
        },
        {
          "output_type": "stream",
          "name": "stderr",
          "text": [
            "INFO:werkzeug:127.0.0.1 - - [23/May/2023 20:52:59] \"POST /get HTTP/1.1\" 200 -\n"
          ]
        },
        {
          "output_type": "stream",
          "name": "stdout",
          "text": [
            "MYM: Goodbye! Have a great day!\n"
          ]
        }
      ]
    },
    {
      "cell_type": "markdown",
      "source": [
        "![image.png](data:image/png;base64,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)"
      ],
      "metadata": {
        "id": "AykssAfCY71A"
      }
    }
  ]
}